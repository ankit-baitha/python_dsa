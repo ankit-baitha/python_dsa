{
 "cells": [
  {
   "cell_type": "code",
   "execution_count": 7,
   "id": "9e1ef770",
   "metadata": {},
   "outputs": [
    {
     "name": "stdout",
     "output_type": "stream",
     "text": [
      "878\n"
     ]
    }
   ],
   "source": [
    "def largest_Element(arr):\n",
    "    largest=float(\"-inf\")\n",
    "    for i in range(0,len(arr)):\n",
    "        largest=max(arr[i],largest)\n",
    "    return largest\n",
    "arr=[3,4,56,67,77,8,8,8,878,78,8]\n",
    "print(largest_Element(arr))\n",
    "\n"
   ]
  },
  {
   "cell_type": "code",
   "execution_count": null,
   "id": "752874cc",
   "metadata": {},
   "outputs": [
    {
     "name": "stdout",
     "output_type": "stream",
     "text": [
      "78\n"
     ]
    }
   ],
   "source": [
    "# second largest element\n",
    "# better aprouch\n",
    "def second_Element(arr):\n",
    "    largest=float(\"-inf\")\n",
    "    second_lar=float(\"-inf\")\n",
    "    for i in range(0,len(arr)):\n",
    "        largest=max(arr[i],largest)\n",
    "    for i in range(0,len(arr)):\n",
    "        if arr[i]>second_lar and arr[i]!=largest:\n",
    "            second_lar=arr[i]\n",
    "\n",
    "    return second_lar\n",
    "arr=[3,4,56,67,77,8,8,8,878,78,8]\n",
    "print(second_Element(arr))\n"
   ]
  },
  {
   "cell_type": "code",
   "execution_count": null,
   "id": "a84a26c4",
   "metadata": {},
   "outputs": [
    {
     "name": "stdout",
     "output_type": "stream",
     "text": [
      "78\n"
     ]
    }
   ],
   "source": [
    "# optimal Aprouch\n",
    "def second_Element_2(arr):\n",
    "    largest=float(\"-inf\")\n",
    "    second_lar=float(\"-inf\")\n",
    "    for i in range(0,len(arr)): \n",
    "        if arr[i]>largest:\n",
    "            second_lar=largest\n",
    "            largest=arr[i]\n",
    "\n",
    "        elif arr[i]>second_lar and largest!=arr[i]:\n",
    "            second_lar=arr[i]\n",
    "    return second_lar\n",
    "# arr=[3,4,56,67,77,8,8,8,878,78,8]\n",
    "print(second_Element_2(arr))\n",
    "    "
   ]
  },
  {
   "cell_type": "code",
   "execution_count": 11,
   "id": "7fb70ef6",
   "metadata": {},
   "outputs": [
    {
     "name": "stdout",
     "output_type": "stream",
     "text": [
      "False\n"
     ]
    }
   ],
   "source": [
    "# check if the arr in sorted\n",
    "def arr_sorted(arr):\n",
    "    for i in range(0,len(arr)-1):\n",
    "        if arr[i]>arr[i+1]:\n",
    "            return False\n",
    "    return True\n",
    "arr=[3,4,56,67,77,8,8,8,878,78,8]\n",
    "print(arr_sorted(arr))"
   ]
  },
  {
   "cell_type": "code",
   "execution_count": 1,
   "id": "9d577c41",
   "metadata": {},
   "outputs": [
    {
     "name": "stdout",
     "output_type": "stream",
     "text": [
      "8\n"
     ]
    }
   ],
   "source": [
    "# better \n",
    "def remove_duplicate(arr):\n",
    "    n=len(arr)\n",
    "    fre_map={}\n",
    "    for i in range(0,n):\n",
    "        fre_map[arr[i]]=0\n",
    "    j=0\n",
    "    for k in fre_map:\n",
    "        arr[j]=k\n",
    "        j+=1\n",
    "    return j\n",
    "\n",
    "print(remove_duplicate([1,1,1,2,3,4,5,5,5,6,7,8]))"
   ]
  },
  {
   "cell_type": "code",
   "execution_count": null,
   "id": "66da798f",
   "metadata": {},
   "outputs": [
    {
     "name": "stdout",
     "output_type": "stream",
     "text": [
      "8\n"
     ]
    }
   ],
   "source": [
    "# optimal\n",
    "def remove_duplicate_2(arr):\n",
    "    n=len(arr)\n",
    "    i=0\n",
    "    j=i+1\n",
    "\n",
    "    while j<n:\n",
    "        if arr[i]!=arr[j]:\n",
    "            i+=1\n",
    "            arr[i],arr[j]=arr[j],arr[i]\n",
    "            j+=1\n",
    "        else:\n",
    "            j+=1\n",
    "    return i+1\n",
    "\n",
    "\n",
    "\n",
    "    # for j in range(1,n):\n",
    "    #     if arr[i]!=arr[j]:\n",
    "    #         i+=1\n",
    "    #         arr[i],arr[j]=arr[j],arr[i]\n",
    "    #         j+=1\n",
    "    #     else:\n",
    "    #         j+=1\n",
    "\n",
    "    # return i+1\n",
    "            \n",
    "\n",
    "print(remove_duplicate_2([1,1,1,2,3,4,5,5,5,6,7,8]))\n",
    "\n",
    "\n",
    "\n"
   ]
  },
  {
   "cell_type": "code",
   "execution_count": 21,
   "id": "4fa2f570",
   "metadata": {},
   "outputs": [
    {
     "name": "stdout",
     "output_type": "stream",
     "text": [
      "[8, 1, 1, 1, 2, 3, 4, 5, 5, 5, 6, 7]\n"
     ]
    }
   ],
   "source": [
    "# right rotate an array by one place\n",
    "def rotate(arr):\n",
    "    n=len(arr)\n",
    "    temp=arr[n-1]\n",
    "    for i in range(n-2,-1,-1):\n",
    "        arr[i+1]=arr[i]\n",
    "    arr[0] = temp\n",
    "    print(arr)\n",
    "rotate([1,1,1,2,3,4,5,5,5,6,7,8])"
   ]
  },
  {
   "cell_type": "code",
   "execution_count": null,
   "id": "e01f51a8",
   "metadata": {},
   "outputs": [
    {
     "name": "stdout",
     "output_type": "stream",
     "text": [
      "[4, 2, 9, 5, 6, 1, 8, 3]\n"
     ]
    }
   ],
   "source": [
    "\n",
    "def rotate(nums, k):\n",
    "    \"\"\"\n",
    "    Do not return anything, modify nums in-place instead.\n",
    "    \"\"\"\n",
    "\n",
    "    def reverse(l, r):\n",
    "        while l < r:\n",
    "            nums[l], nums[r] = nums[r], nums[l]\n",
    "            l += 1\n",
    "            r -= 1\n",
    "\n",
    "    n = len(nums)\n",
    "    k=k % n  # Handle cases where k > n\n",
    "\n",
    "    reverse(n - k, n - 1)  # Reverse the last k element\n",
    "    reverse(0, n - k - 1)  # Reverse the remaining elements\n",
    "    reverse(0, n - 1)  # Reverse the entire array\n",
    "    return nums\n",
    "nums=[5,6,1,8,3,4,2,9]\n",
    "x=rotate(nums,3)\n",
    "print(x)"
   ]
  },
  {
   "cell_type": "code",
   "execution_count": null,
   "id": "2afc0eba",
   "metadata": {},
   "outputs": [
    {
     "name": "stdout",
     "output_type": "stream",
     "text": [
      "[1, 3, 12]\n",
      "[1, 3, 12, 3, 12]\n",
      "[1, 3, 12, 0, 0]\n"
     ]
    }
   ],
   "source": [
    "# moves zeros to the end of list\n",
    "\n",
    "\n",
    "\n",
    "\n",
    "def move(num):\n",
    "    n=len(num)\n",
    "    temp=[]\n",
    "    for i in range(0,n):\n",
    "        if num[i]!=0:\n",
    "            temp.append(num[i])\n",
    "    print(temp)\n",
    "    nj=len(temp)\n",
    "    for j in range(0,len(temp)):\n",
    "        num[j]=temp[j]\n",
    "    print(num)\n",
    "\n",
    "    for i in range(nj,n):\n",
    "        num[i]=0\n",
    "    print(num)\n",
    "move([0,1,0,3,12])\n",
    "\n",
    "\n",
    "# def movesZeros(num):\n",
    "#     if len(num)==0:\n",
    "#         return 0\n",
    "#     i=0\n",
    "\n",
    "#     while i<len(num):\n",
    "#         if num[i]==0:\n",
    "#             break\n",
    "#         i+=1\n",
    "#     j=i+1\n",
    "#     while j<len(num):\n",
    "#         if num[j]!=0:\n",
    "#             num[j],num[i]=num[i],num[j]\n",
    "#             i+=1\n",
    "#         j+=1\n",
    "#     return num\n",
    "\n",
    "# print(movesZeros([0,1,0,3,12]))\n"
   ]
  },
  {
   "cell_type": "code",
   "execution_count": 14,
   "id": "420b4b66",
   "metadata": {},
   "outputs": [
    {
     "name": "stdout",
     "output_type": "stream",
     "text": [
      "2\n"
     ]
    }
   ],
   "source": [
    "# linear search\n",
    "def linear_search(num,target):\n",
    "    for i in range(0,len(num)):\n",
    "        if num[i]==target:\n",
    "            return i\n",
    "    return -1\n",
    "print(linear_search([3,5,67,87,3,3,56,7],67))\n"
   ]
  },
  {
   "cell_type": "code",
   "execution_count": null,
   "id": "112d1f2c",
   "metadata": {},
   "outputs": [],
   "source": [
    "# merge 2 sorted array without Duplicates\n",
    "def merge_sorted_list(nums1,nums2):\n",
    "    n=len(nums1)\n",
    "    m=len(nums2)\n",
    "    result=[]\n",
    "    i=0\n",
    "    j=0\n",
    "    while i<n and j<m:\n",
    "        if nums1[i]<=nums2[j]:\n",
    "            if result[-1]!=nums1[i] or len[result]==0:\n",
    "                result.append(nums1[i])\n",
    "            i+=1\n",
    "        else:\n",
    "            if len(nums2[j])==0 or result[-1]!=nums2[j]:\n",
    "                result.append(nums2[j])\n",
    "            j+=1\n",
    "    while i<n:\n",
    "        if result[-1]!=nums1[i] or len(result)==0:\n",
    "            result.append(nums1[i])\n",
    "        i+=1\n",
    "    while j<m:\n",
    "        if result[-1]!=nums2[j] or len(result)==0:\n",
    "            result.append(nums2[j])\n",
    "        j+=1\n",
    "    return result\n",
    "x=merge_sorted_list([1,2,3,0,0,0],[2,5,6])\n",
    "print(x)"
   ]
  },
  {
   "cell_type": "code",
   "execution_count": 2,
   "id": "9fb6d387",
   "metadata": {},
   "outputs": [
    {
     "name": "stdout",
     "output_type": "stream",
     "text": [
      "3\n"
     ]
    }
   ],
   "source": [
    "# max consecutive ones\n",
    "def ones(arr):\n",
    "    coun=0\n",
    "    max_coun=0\n",
    "    for i in range(0,len(arr)):\n",
    "        if arr[i]==1:\n",
    "            coun +=1\n",
    "        else:\n",
    "            max_coun = max(max_coun,coun)\n",
    "            coun=0\n",
    "    return max(max_coun,coun)\n",
    "\n",
    "print(ones([1,1,0,1,1,1]))"
   ]
  },
  {
   "cell_type": "code",
   "execution_count": 12,
   "id": "ff3c0540",
   "metadata": {},
   "outputs": [
    {
     "name": "stdout",
     "output_type": "stream",
     "text": [
      "[0, 2]\n"
     ]
    }
   ],
   "source": [
    "arr=[3,2,5,8,4,6,7,1]\n",
    "target=8\n",
    "for i in range(0,len(arr)-1):\n",
    "    for j in range(i+1,len(arr)):\n",
    "        if arr[i]+arr[j]==target:\n",
    "            print([i,j])\n",
    "    break\n"
   ]
  },
  {
   "cell_type": "code",
   "execution_count": 6,
   "id": "304e6ffe",
   "metadata": {},
   "outputs": [
    {
     "name": "stdout",
     "output_type": "stream",
     "text": [
      "[0, 2]\n"
     ]
    }
   ],
   "source": [
    "def two(nums):\n",
    "    target=8\n",
    "    n=len(nums)\n",
    "    for i in range(0,n-1):\n",
    "        for j in range(i+1,n):\n",
    "            if target== nums[i]+nums[j]:\n",
    "                return [i,j]\n",
    "nums=[3,2,5,8,4,6,7,1]\n",
    "print(two(nums))"
   ]
  },
  {
   "cell_type": "code",
   "execution_count": 13,
   "id": "59d2a2ab",
   "metadata": {},
   "outputs": [
    {
     "name": "stdout",
     "output_type": "stream",
     "text": [
      "[1, 3]\n"
     ]
    }
   ],
   "source": [
    "def twosum(arr,target):\n",
    "    has_map=dict()\n",
    "    for i in range(0,len(arr)):\n",
    "        rem=target-arr[i]\n",
    "        if rem in has_map:\n",
    "            return [has_map[rem],i]\n",
    "        has_map[arr[i]]=i\n",
    "print(twosum([3,2,5,8,4,6,7,1],10))"
   ]
  },
  {
   "cell_type": "code",
   "execution_count": 2,
   "id": "ce05af78",
   "metadata": {},
   "outputs": [
    {
     "name": "stdout",
     "output_type": "stream",
     "text": [
      "[0, 0, 1, 1, 2, 2]\n"
     ]
    }
   ],
   "source": [
    "def colorsort(nums):\n",
    "    low=0\n",
    "    mid=0\n",
    "    high=len(nums)-1\n",
    "    while mid<=high:\n",
    "        if nums[mid]==0:\n",
    "            nums[low],nums[mid]=nums[mid],nums[low]\n",
    "            low+=1\n",
    "            mid+=1\n",
    "        elif nums[mid]==1:\n",
    "            mid+=1\n",
    "        else:\n",
    "            nums[mid],nums[high]=nums[high], nums[mid]\n",
    "            high-=1\n",
    "    return nums\n",
    "\n",
    "nums = [2,0,2,1,1,0]\n",
    "print(colorsort(nums))\n"
   ]
  },
  {
   "cell_type": "code",
   "execution_count": 1,
   "id": "f35a8777",
   "metadata": {},
   "outputs": [
    {
     "name": "stdout",
     "output_type": "stream",
     "text": [
      "6\n"
     ]
    }
   ],
   "source": [
    "# maximum subarray sum\n",
    "# brute\n",
    "\n",
    "def subarray(nums):\n",
    "    n=len(nums)\n",
    "    maxi=float(\"-inf\")\n",
    "    for i in range(0,n):\n",
    "        total=0\n",
    "        for j in range(i,n):\n",
    "            total =total + nums[j]\n",
    "            maxi = max(maxi,total)\n",
    "    return maxi\n",
    "nums = [-2,1,-3,4,-1,2,1,-5,4]\n",
    "print(subarray(nums))\n"
   ]
  },
  {
   "cell_type": "code",
   "execution_count": null,
   "id": "eed68028",
   "metadata": {},
   "outputs": [
    {
     "name": "stdout",
     "output_type": "stream",
     "text": [
      "6\n"
     ]
    }
   ],
   "source": [
    "# kadane's algorithm\n",
    "def kadan(nums):\n",
    "    n=len(nums)\n",
    "    maxi=float('-inf')\n",
    "    total=0\n",
    "    for i in range(0,n):\n",
    "        total = total + nums[i]\n",
    "        maxi=max(total,maxi)\n",
    "        if total<0:\n",
    "            total =0\n",
    "    return maxi\n",
    "nums = [-2,1,-3,4,-1,2,1,-5,4]\n",
    "print(kadan(nums)) \n"
   ]
  }
 ],
 "metadata": {
  "kernelspec": {
   "display_name": "Python 3",
   "language": "python",
   "name": "python3"
  },
  "language_info": {
   "codemirror_mode": {
    "name": "ipython",
    "version": 3
   },
   "file_extension": ".py",
   "mimetype": "text/x-python",
   "name": "python",
   "nbconvert_exporter": "python",
   "pygments_lexer": "ipython3",
   "version": "3.13.7"
  }
 },
 "nbformat": 4,
 "nbformat_minor": 5
}
