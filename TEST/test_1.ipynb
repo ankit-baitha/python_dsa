{
 "cells": [
  {
   "cell_type": "code",
   "execution_count": 2,
   "id": "57d2a3e0",
   "metadata": {},
   "outputs": [
    {
     "name": "stdout",
     "output_type": "stream",
     "text": [
      "* * * * * * \n",
      "* * * * * * \n",
      "* * * * * * \n",
      "* * * * * * \n",
      "* * * * * * \n"
     ]
    }
   ],
   "source": [
    "for i in range(0,5):\n",
    "    for j in range(0,6):\n",
    "        print(\"*\", end=\" \")\n",
    "    print()"
   ]
  },
  {
   "cell_type": "code",
   "execution_count": 3,
   "id": "e78ded22",
   "metadata": {},
   "outputs": [
    {
     "name": "stdout",
     "output_type": "stream",
     "text": [
      "1 2 3 4 5 \n",
      "1 2 3 4 5 \n",
      "1 2 3 4 5 \n",
      "1 2 3 4 5 \n",
      "1 2 3 4 5 \n"
     ]
    }
   ],
   "source": [
    "for i in range(1,6):\n",
    "    for j in range(1,6):\n",
    "        print(j, end=\" \")\n",
    "    print()"
   ]
  },
  {
   "cell_type": "code",
   "execution_count": 4,
   "id": "65b1e499",
   "metadata": {},
   "outputs": [
    {
     "name": "stdout",
     "output_type": "stream",
     "text": [
      "1 1 1 1 1 \n",
      "2 2 2 2 2 \n",
      "3 3 3 3 3 \n",
      "4 4 4 4 4 \n",
      "5 5 5 5 5 \n"
     ]
    }
   ],
   "source": [
    "for i in range(1,6):\n",
    "    for j in range(1,6):\n",
    "        print(i, end=\" \")\n",
    "    print()"
   ]
  },
  {
   "cell_type": "code",
   "execution_count": 5,
   "id": "9179437f",
   "metadata": {},
   "outputs": [
    {
     "name": "stdout",
     "output_type": "stream",
     "text": [
      "5 5 5 5 5 \n",
      "4 4 4 4 4 \n",
      "3 3 3 3 3 \n",
      "2 2 2 2 2 \n",
      "1 1 1 1 1 \n"
     ]
    }
   ],
   "source": [
    "for i in range(5,0,-1):\n",
    "    for j in range(1,6):\n",
    "        print(i, end=\" \")\n",
    "    print()"
   ]
  },
  {
   "cell_type": "code",
   "execution_count": 6,
   "id": "ded6cc89",
   "metadata": {},
   "outputs": [
    {
     "name": "stdout",
     "output_type": "stream",
     "text": [
      "5 4 3 2 1 \n",
      "5 4 3 2 1 \n",
      "5 4 3 2 1 \n",
      "5 4 3 2 1 \n",
      "5 4 3 2 1 \n"
     ]
    }
   ],
   "source": [
    "for i in range(1,6):\n",
    "    for j in range(5,0,-1):\n",
    "        print(j, end=\" \")\n",
    "    print()"
   ]
  },
  {
   "cell_type": "code",
   "execution_count": 2,
   "id": "2d6575c6",
   "metadata": {},
   "outputs": [
    {
     "name": "stdout",
     "output_type": "stream",
     "text": [
      "31 7 5 3 17 19 "
     ]
    }
   ],
   "source": [
    "\n",
    "my_list = [45, 31, 7, 5, 3, 17, 19, 25, 65, 92]\n",
    "for num in my_list:\n",
    "    factors = 0\n",
    "    for i in range(1, num + 1):\n",
    "        if num % i == 0:\n",
    "            factors += 1\n",
    "    if factors == 2:\n",
    "        print(num, end=\" \")\n"
   ]
  },
  {
   "cell_type": "code",
   "execution_count": 9,
   "id": "e5c4a855",
   "metadata": {},
   "outputs": [
    {
     "name": "stdout",
     "output_type": "stream",
     "text": [
      "31 7 5 3 17 19 "
     ]
    }
   ],
   "source": [
    "my_list = [45, 31, 7, 5, 3, 17, 19, 25, 65, 92]\n",
    "for num in my_list:\n",
    "    prime=True\n",
    "    for i in range(2,num):\n",
    "        if num%i==0:\n",
    "            prime=False\n",
    "            break\n",
    "    if prime:\n",
    "        print(num,end=\" \")\n",
    "        "
   ]
  },
  {
   "cell_type": "code",
   "execution_count": null,
   "id": "0ca60ce6",
   "metadata": {},
   "outputs": [
    {
     "name": "stdout",
     "output_type": "stream",
     "text": [
      "5 3 1 7 2 "
     ]
    }
   ],
   "source": []
  },
  {
   "cell_type": "code",
   "execution_count": 2,
   "id": "a041c9e5",
   "metadata": {},
   "outputs": [
    {
     "name": "stdout",
     "output_type": "stream",
     "text": [
      "lowercase 28\n",
      "uppercase 8\n"
     ]
    }
   ],
   "source": [
    "# count a number of small digit\n",
    "myt_string=\"sdfghGbHJGsdFGhknkjFDfgjhdfhgjv67uyg#$56gh\"\n",
    "lowercase=0\n",
    "uppercase=0\n",
    "for ch in myt_string:\n",
    "    ascii_code=ord(ch)\n",
    "    if ascii_code>=97 and ascii_code<=122:\n",
    "        lowercase +=1\n",
    "    elif ascii_code>=65 and ascii_code<=90:\n",
    "        uppercase+=1\n",
    "\n",
    "print(f\"lowercase {lowercase}\")\n",
    "print(f\"uppercase {uppercase}\")"
   ]
  },
  {
   "cell_type": "code",
   "execution_count": 6,
   "id": "150e330f",
   "metadata": {},
   "outputs": [
    {
     "data": {
      "text/plain": [
       "False"
      ]
     },
     "execution_count": 6,
     "metadata": {},
     "output_type": "execute_result"
    }
   ],
   "source": [
    "def is_lower_case(my_string:str)->bool:\n",
    "    is_lower=False\n",
    "    is_upper=False\n",
    "    for ch in my_string:\n",
    "        ascii_code=ord(ch)\n",
    "        if ascii_code>=97 and ascii_code<=122:\n",
    "            is_lower=True\n",
    "        elif ascii_code>=65 and ascii_code<=90:\n",
    "            is_upper=True\n",
    "    if is_lower==True and is_upper==False:\n",
    "        return True\n",
    "    else:\n",
    "        return False\n",
    "     \n",
    "my_string=\"sdfghGbHJGsdFGhknkjFDfgjhdfhgjv67uyg#$56gh\"\n",
    "is_lower_case(my_string)  "
   ]
  },
  {
   "cell_type": "code",
   "execution_count": 1,
   "id": "37fff35c",
   "metadata": {},
   "outputs": [
    {
     "name": "stdout",
     "output_type": "stream",
     "text": [
      "alphabets 8 \n",
      "space 3 \n",
      "digits 5 \n",
      "symbols 5 \n"
     ]
    }
   ],
   "source": [
    "#  count alphabets , digits m sapce, and symbols.\n",
    "def count_(my_string:str):\n",
    "    alphabets=0\n",
    "    digits=0\n",
    "    spaces=0\n",
    "    symbols=0\n",
    "    for ch in my_string:\n",
    "        ascii_code=ord(ch)\n",
    "        if ascii_code>=65 and ascii_code<=90 or  ascii_code>=97 and ascii_code<=122:\n",
    "            alphabets+=1\n",
    "        elif ascii_code==32:\n",
    "            spaces+=1\n",
    "        elif ascii_code>=48 and ascii_code<=57:\n",
    "            digits+=1\n",
    "        else:\n",
    "            symbols+=1\n",
    "    print(f\"alphabets {alphabets} \")\n",
    "    print(f\"space {spaces} \")\n",
    "    print(f\"digits {digits} \")\n",
    "    print(f\"symbols {symbols} \")\n",
    "my_string=\"dhdDDD123(%^&SD  34 )\"\n",
    "count_(my_string)\n",
    "\n"
   ]
  },
  {
   "cell_type": "code",
   "execution_count": 1,
   "id": "5b85627f",
   "metadata": {},
   "outputs": [
    {
     "name": "stdout",
     "output_type": "stream",
     "text": [
      "f\n"
     ]
    }
   ],
   "source": [
    "# \"\"\"\n",
    "# keep on asking characters form the user\n",
    "# stop it utill he/she presses q\n",
    "# \"\"\"\n",
    "result=\"\"\n",
    "while True:\n",
    "\n",
    "    char=input(\"enter the character .... \")\n",
    "    if char==\"q\" or char==\"Q\":\n",
    "        break\n",
    "    result +=char\n",
    "\n",
    "print(result)\n",
    "\n",
    "\n",
    "\n"
   ]
  },
  {
   "cell_type": "code",
   "execution_count": 4,
   "id": "5f8b5242",
   "metadata": {},
   "outputs": [
    {
     "name": "stdout",
     "output_type": "stream",
     "text": [
      "ABCDABCDHKYHOUI\n"
     ]
    }
   ],
   "source": [
    "my_string=\"abcdABCDhkYHOUI\"\n",
    "result=\"\"\n",
    "for ch in my_string:\n",
    "    ascii_code=ord(ch)\n",
    "    if ascii_code>=97 and ascii_code<=122:\n",
    "        ascii_code -=32\n",
    "\n",
    "        result= result+chr(ascii_code)\n",
    "    else:\n",
    "        result  = result + ch\n",
    "print(result)\n"
   ]
  },
  {
   "cell_type": "code",
   "execution_count": 5,
   "id": "fed24201",
   "metadata": {},
   "outputs": [
    {
     "name": "stdout",
     "output_type": "stream",
     "text": [
      "ABCDabcdHKyhoui#$%^&*\n"
     ]
    }
   ],
   "source": [
    "my_string=\"abcdABCDhkYHOUI#$%^&*\"\n",
    "result=\"\"\n",
    "for ch in my_string:\n",
    "    ascii_code=ord(ch)\n",
    "    if ascii_code>=97 and ascii_code<=122:\n",
    "        ascii_code -=32\n",
    "\n",
    "        result= result+chr(ascii_code)\n",
    "    elif ascii_code >=65 and ascii_code<=90:\n",
    "        ascii_code +=32\n",
    "\n",
    "        result = result + chr(ascii_code)\n",
    "    else:\n",
    "        result  = result + ch\n",
    "print(result)"
   ]
  },
  {
   "cell_type": "code",
   "execution_count": 6,
   "id": "acbf8d5a",
   "metadata": {},
   "outputs": [
    {
     "name": "stdout",
     "output_type": "stream",
     "text": [
      "agfkkhknFjkmnmnbjrnnmITUtiyo\n"
     ]
    }
   ],
   "source": [
    "# remove all the symbols , digits, spaces from a string\n",
    "my_string=\"agfkkhknFjkmn,mn^78bj0&rn nmITUtiyo%8\"\n",
    "result= \"\"\n",
    "for ch in my_string:\n",
    "    ascii_code=ord(ch)\n",
    "    if ascii_code>=65 and ascii_code<=90 or ascii_code>=97 and ascii_code<=122:\n",
    "        result= result + ch\n",
    "    \n",
    "print(result)"
   ]
  },
  {
   "cell_type": "code",
   "execution_count": 1,
   "id": "7a5565d3",
   "metadata": {},
   "outputs": [
    {
     "name": "stdout",
     "output_type": "stream",
     "text": [
      "agfkkhk-d-d-g-esa-nmITUtiyo\n"
     ]
    }
   ],
   "source": [
    "my_string=\"agfkkhk d d g esa nmITUtiyo%8\"\n",
    "result= \"\"\n",
    "for ch in my_string:\n",
    "    ascii_code=ord(ch)\n",
    "    if ascii_code>=65 and ascii_code<=90 or ascii_code>=97 and ascii_code<=122:\n",
    "        result= result + ch\n",
    "    elif ascii_code==32:\n",
    "        result= result + chr(45)\n",
    "    \n",
    "print(result)"
   ]
  },
  {
   "cell_type": "code",
   "execution_count": 3,
   "id": "14f96e67",
   "metadata": {},
   "outputs": [
    {
     "name": "stdout",
     "output_type": "stream",
     "text": [
      "language\n"
     ]
    }
   ],
   "source": [
    "# longest string\n",
    "def longest_word(s:str)->str:\n",
    "    longest= \"\"\n",
    "    current = \"\"\n",
    "    for char in s:\n",
    "        if char==\" \":\n",
    "            if len(current) > len(longest):\n",
    "                longest = current\n",
    "            current =\"\"\n",
    "        else:\n",
    "            current +=char\n",
    "    if len(current)> len(longest):\n",
    "        longest=current\n",
    "    return longest\n",
    "s= \"python is a very easy coding language to learn\"\n",
    "print(longest_word(s))\n",
    "\n",
    " "
   ]
  },
  {
   "cell_type": "code",
   "execution_count": 7,
   "id": "19da7dd1",
   "metadata": {},
   "outputs": [
    {
     "name": "stdout",
     "output_type": "stream",
     "text": [
      "9\n",
      "ankit\n",
      "a n k i t\n",
      "a-n-k-i-t\n"
     ]
    }
   ],
   "source": [
    "s= \"python is a very easy coding language to learn\"\n",
    "ans= s.split()\n",
    "print(len(ans))\n",
    "\n",
    "my_list=[\"a\",\"n\",\"k\",\"i\",\"t\"]\n",
    "result=\"\".join(ch for ch in my_list)\n",
    "print(result)\n",
    "result=\" \".join(ch for ch in my_list)\n",
    "print(result)\n",
    "result=\"-\".join(ch for ch in my_list)\n",
    "print(result)"
   ]
  },
  {
   "cell_type": "code",
   "execution_count": 8,
   "id": "2eac7947",
   "metadata": {},
   "outputs": [
    {
     "name": "stdout",
     "output_type": "stream",
     "text": [
      "nrael ot egaugnal gnidoc ysae yrev a si nohtyp\n"
     ]
    }
   ],
   "source": [
    "s= \"python is a very easy coding language to learn\"\n",
    "word=s.split()\n",
    "word=word[::-1]\n",
    "ans=\" \".join(i[::-1] for i in word )\n",
    "print(ans)"
   ]
  },
  {
   "cell_type": "code",
   "execution_count": null,
   "id": "d66c09e7",
   "metadata": {},
   "outputs": [
    {
     "name": "stdout",
     "output_type": "stream",
     "text": [
      "sst\n",
      "99\n"
     ]
    }
   ],
   "source": [
    "marks = {\n",
    "    \"history\":65,\n",
    "    \"science\":75,\n",
    "    \"computer\":85,\n",
    "    \"chemistry\":99,\n",
    "    \"sst\":95\n",
    "    }\n",
    "\n",
    "gratest_marks=float(\"-inf\")\n",
    "\n",
    "for k in marks:\n",
    "\n",
    "    if marks[k]>=gratest_marks:\n",
    "        gratest_marks= marks[k]\n",
    "\n",
    "print(gratest_marks)"
   ]
  },
  {
   "cell_type": "code",
   "execution_count": 14,
   "id": "7511bd5a",
   "metadata": {},
   "outputs": [
    {
     "name": "stdout",
     "output_type": "stream",
     "text": [
      "chemistry → 99\n"
     ]
    }
   ],
   "source": [
    "marks = {\n",
    "    \"history\": 65,\n",
    "    \"science\": 75,\n",
    "    \"computer\": 85,\n",
    "    \"chemistry\": 99,\n",
    "    \"sst\": 95\n",
    "}\n",
    "\n",
    "subject, greatest_marks = max(marks.items(), key=lambda item: item[1])\n",
    "print(f\"{subject} → {greatest_marks}\")\n"
   ]
  },
  {
   "cell_type": "code",
   "execution_count": null,
   "id": "0ed0d681",
   "metadata": {},
   "outputs": [
    {
     "name": "stdout",
     "output_type": "stream",
     "text": [
      "{1: 1, 3: 4, 4: 1, 5: 2, 6: 2, 35: 1, 2: 1, 7: 1}\n",
      "8\n",
      "{1: 1, 3: 4, 4: 1, 5: 2, 6: 2, 35: 1, 2: 1, 7: 1}\n"
     ]
    }
   ],
   "source": [
    "my_list=[1,3,4,5,6,3,35,3,2,3,5,6,7]\n",
    "my_dict={}\n",
    "for num in my_list:\n",
    "    if num in my_dict:\n",
    "        my_dict[num]= my_dict[num] + 1\n",
    "        \n",
    "    else:\n",
    "        my_dict[num] = 1\n",
    "print(my_dict)\n",
    "print(len(my_dict))\n",
    "\n",
    "my_dict_2={}\n",
    "# \n",
    "for num in my_list:\n",
    "    my_dict_2[num]= my_dict_2.get(num,0)+1\n",
    "print(my_dict_2)"
   ]
  },
  {
   "cell_type": "code",
   "execution_count": 11,
   "id": "40515c01",
   "metadata": {},
   "outputs": [
    {
     "name": "stdout",
     "output_type": "stream",
     "text": [
      "Counter({3: 4, 5: 2, 6: 2, 1: 1, 4: 1, 35: 1, 2: 1, 7: 1})\n",
      "4\n"
     ]
    }
   ],
   "source": [
    "my_list=[1,3,4,5,6,3,35,3,2,3,5,6,7]\n",
    "my_dict={}\n",
    "from collections import Counter\n",
    "        \n",
    "freq = Counter(my_list) \n",
    "print(freq)  \n",
    "\n",
    "max_freq = max(freq.values())  \n",
    "print(max_freq) \n",
    "\n",
    "total = sum(v for v in freq.values())"
   ]
  },
  {
   "cell_type": "code",
   "execution_count": 6,
   "id": "4ea0361e",
   "metadata": {},
   "outputs": [
    {
     "name": "stdout",
     "output_type": "stream",
     "text": [
      "ankit has scores 255\n",
      "sanjay has scores 318\n",
      "muskan has scores 276\n",
      "akshay has scores 261\n"
     ]
    }
   ],
   "source": [
    "from typing import List, Dict\n",
    "\n",
    "def display_details(my_dict: Dict[str, List[int]]) -> None:\n",
    "    for name, marks in my_dict.items():\n",
    "        total=0\n",
    "        for mark in marks:\n",
    "            total +=mark\n",
    "\n",
    "        print(f\"{name} has scores {total}\")\n",
    "\n",
    "my_dict = {\n",
    "    \"ankit\":  [22, 46, 77, 33, 77],\n",
    "    \"sanjay\": [58, 75, 75, 33, 77],\n",
    "    \"muskan\": [44, 88, 33, 88, 23],\n",
    "    \"akshay\": [56, 33, 73, 77, 22],\n",
    "}\n",
    "\n",
    "display_details(my_dict)\n"
   ]
  },
  {
   "cell_type": "code",
   "execution_count": 1,
   "id": "0759c280",
   "metadata": {},
   "outputs": [
    {
     "name": "stdout",
     "output_type": "stream",
     "text": [
      "ankit has scores 77\n",
      "sanjay has scores 77\n",
      "muskan has scores 88\n",
      "akshay has scores 77\n"
     ]
    }
   ],
   "source": [
    "from typing import List, Dict\n",
    "\n",
    "def display_details(my_dict: Dict[str, List[int]]) -> None:\n",
    "    for name, marks in my_dict.items():\n",
    "        maximum_score=float('-inf')\n",
    "        for mark in marks:\n",
    "            if mark>maximum_score:\n",
    "                maximum_score=mark\n",
    "\n",
    "\n",
    "        print(f\"{name} has scores {maximum_score}\")\n",
    "\n",
    "my_dict = {\n",
    "    \"ankit\":  [22, 46, 77, 33, 77],\n",
    "    \"sanjay\": [58, 75, 75, 33, 77],\n",
    "    \"muskan\": [44, 88, 33, 88, 23],\n",
    "    \"akshay\": [56, 33, 73, 77, 22],\n",
    "}\n",
    "\n",
    "display_details(my_dict)\n"
   ]
  },
  {
   "cell_type": "code",
   "execution_count": 4,
   "id": "1f23bf03",
   "metadata": {},
   "outputs": [
    {
     "name": "stdout",
     "output_type": "stream",
     "text": [
      "sanjay 318\n"
     ]
    }
   ],
   "source": [
    "from typing import List, Dict\n",
    "\n",
    "def display_details(my_dict: Dict[str, List[int]]) -> None:\n",
    "\n",
    "    maxi=0\n",
    "    student_max=\"\"\n",
    "    for name, marks in my_dict.items():\n",
    "        total=0\n",
    "        for mark in marks:\n",
    "            total +=mark\n",
    "        if total>maxi:\n",
    "            maxi=total\n",
    "            student_max=name\n",
    "\n",
    "        # print(f\"{name} has scores {total}\")\n",
    "    print(f\"{student_max} {maxi}\")\n",
    "\n",
    "\n",
    "\n",
    "my_dict = {\n",
    "    \"ankit\":  [22, 46, 77, 33, 77],\n",
    "    \"sanjay\": [58, 75, 75, 33, 77],\n",
    "    \"muskan\": [44, 88, 33, 88, 23],\n",
    "    \"akshay\": [56, 33, 73, 77, 22],\n",
    "}\n",
    "\n",
    "display_details(my_dict)\n"
   ]
  },
  {
   "cell_type": "code",
   "execution_count": null,
   "id": "061c936c",
   "metadata": {},
   "outputs": [
    {
     "name": "stdout",
     "output_type": "stream",
     "text": [
      "36\n",
      "1\n"
     ]
    }
   ],
   "source": [
    "details={\n",
    "    \"ankit\":{\n",
    "        \"age\":56,\n",
    "        \"gender\":\"male\",\n",
    "        \"marks\":[4,4,6,6,6],\n",
    "        \"adult\":True\n",
    "\n",
    "    },\n",
    "    \"deepak\":{\n",
    "        \"age\":36,\n",
    "        \"gender\":\"male\",\n",
    "        \"marks\":[4,9,6,2,1],\n",
    "        \"adult\":True\n",
    "\n",
    "    },\n",
    "    \"sangeeta\":{\n",
    "        \"age\":26,\n",
    "        \"gender\":\"female\",\n",
    "        \"marks\":[4,7,6,4,6],\n",
    "        \"adult\":True\n",
    "\n",
    "    }\n",
    "}\n",
    "print(details[\"deepak\"][\"age\"])\n",
    "\n",
    "print(details[\"deepak\"][\"marks\"][-1])  # → 1\n"
   ]
  },
  {
   "cell_type": "code",
   "execution_count": 16,
   "id": "76d34e3e",
   "metadata": {},
   "outputs": [
    {
     "name": "stdout",
     "output_type": "stream",
     "text": [
      "ankit has score26\n",
      "deepak has score22\n",
      "sangeeta has score27\n"
     ]
    }
   ],
   "source": [
    "details={\n",
    "    \"ankit\":{\n",
    "        \"age\":56,\n",
    "        \"gender\":\"male\",\n",
    "        \"marks\":[4,4,6,6,6],\n",
    "        \"adult\":True\n",
    "\n",
    "    },\n",
    "    \"deepak\":{\n",
    "        \"age\":36,\n",
    "        \"gender\":\"male\",\n",
    "        \"marks\":[4,9,6,2,1],\n",
    "        \"adult\":True\n",
    "\n",
    "    },\n",
    "    \"sangeeta\":{\n",
    "        \"age\":26,\n",
    "        \"gender\":\"female\",\n",
    "        \"marks\":[4,7,6,4,6],\n",
    "        \"adult\":True\n",
    "\n",
    "    }\n",
    "}\n",
    "\n",
    "for name,info in details.items():\n",
    "    total=0\n",
    "    for mark in info[\"marks\"]:\n",
    "        total+= mark\n",
    "    print(f\"{name} has score{total}\")\n",
    "\n",
    "\n",
    "\n",
    "\n"
   ]
  }
 ],
 "metadata": {
  "kernelspec": {
   "display_name": "Python 3",
   "language": "python",
   "name": "python3"
  },
  "language_info": {
   "codemirror_mode": {
    "name": "ipython",
    "version": 3
   },
   "file_extension": ".py",
   "mimetype": "text/x-python",
   "name": "python",
   "nbconvert_exporter": "python",
   "pygments_lexer": "ipython3",
   "version": "3.11.9"
  }
 },
 "nbformat": 4,
 "nbformat_minor": 5
}
