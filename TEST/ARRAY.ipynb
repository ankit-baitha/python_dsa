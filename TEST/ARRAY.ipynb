{
 "cells": [
  {
   "cell_type": "code",
   "execution_count": 2,
   "id": "5a779558",
   "metadata": {},
   "outputs": [
    {
     "data": {
      "text/plain": [
       "[99, 67]"
      ]
     },
     "execution_count": 2,
     "metadata": {},
     "output_type": "execute_result"
    }
   ],
   "source": [
    "#examle 1 large element in a array\n",
    "num=[55,32,-92,99,3,67]\n",
    "def find_largest(arr):\n",
    "    large=float('-inf') \n",
    "    second_large=float('-inf')\n",
    "    for i in range(0,len(num)):\n",
    "        if num[i]>large:\n",
    "            large=num[i]\n",
    "        elif num[i]>second_large and num[i]!=large:\n",
    "            second_large=num[i]\n",
    "\n",
    "        \n",
    "            \n",
    "    return  [large ,second_large]\n",
    "find_largest(num) # Initialize to negative infinity"
   ]
  },
  {
   "cell_type": "code",
   "execution_count": 4,
   "id": "63376a1a",
   "metadata": {},
   "outputs": [
    {
     "data": {
      "text/plain": [
       "5"
      ]
     },
     "execution_count": 4,
     "metadata": {},
     "output_type": "execute_result"
    }
   ],
   "source": [
    "# Remove Duplicates from Sorted Array\n",
    "def remove_dublicate(arr):\n",
    "    if len(arr) == 1:\n",
    "        return 1\n",
    "    i=0\n",
    "    j=i+1\n",
    "    while j<len(arr):\n",
    "        if arr[i]!=arr[j]:\n",
    "            i+=1\n",
    "            arr[i],arr[j]= arr[j],arr[i]\n",
    "        j+=1\n",
    "    return i+1\n",
    "num= [0,0,1,1,1,2,2,3,3,4]\n",
    "remove_dublicate(num)"
   ]
  },
  {
   "cell_type": "code",
   "execution_count": 5,
   "id": "9c409721",
   "metadata": {},
   "outputs": [
    {
     "data": {
      "text/plain": [
       "[5, 1, 2, 3, 4]"
      ]
     },
     "execution_count": 5,
     "metadata": {},
     "output_type": "execute_result"
    }
   ],
   "source": [
    "# right rotate by 1 place\n",
    "def right_rotate(arr):\n",
    "    if len(arr) == 0:\n",
    "        return arr\n",
    "    last_element = arr[-1]\n",
    "    for i in range(len(arr) - 2,-1, -1):\n",
    "        arr[i+1] = arr[i]\n",
    "\n",
    "    arr[0] = last_element\n",
    "    return arr\n",
    "num = [1, 2, 3, 4, 5]\n",
    "right_rotate(num)"
   ]
  },
  {
   "cell_type": "code",
   "execution_count": 2,
   "id": "347df3b8",
   "metadata": {},
   "outputs": [
    {
     "data": {
      "text/plain": [
       "[1, 2, 3, 4, 5]"
      ]
     },
     "execution_count": 2,
     "metadata": {},
     "output_type": "execute_result"
    }
   ],
   "source": [
    "# Right rotate an array by K places\n",
    "def right_rotate_k(arr, k):\n",
    "    n=len(arr)\n",
    "    k=k %n\n",
    "    for _ in range(k):\n",
    "        e=arr.pop()\n",
    "        arr.insert(0, e)\n",
    "    return arr\n",
    "num = [1, 2, 3, 4, 5]       \n",
    "right_rotate_k(num, 5)"
   ]
  },
  {
   "cell_type": "code",
   "execution_count": null,
   "id": "b7d61f90",
   "metadata": {},
   "outputs": [],
   "source": [
    "#  Move Zeroes\n",
    "def move_zeroes(arr):\n",
    "    i=0 \n",
    "    while i<len(arr):\n",
    "        if arr[i]==0:\n",
    "            break\n",
    "        i+=1\n",
    "    j=i+1\n",
    "    while j<len(arr):\n",
    "        if arr[j]!=0:\n",
    "            arr[i],arr[j]=arr[j],arr[i]\n",
    "            i+=1\n",
    "        j+=1    \n",
    "        "
   ]
  },
  {
   "cell_type": "code",
   "execution_count": 6,
   "id": "b3f657e9",
   "metadata": {},
   "outputs": [
    {
     "data": {
      "text/plain": [
       "5"
      ]
     },
     "execution_count": 6,
     "metadata": {},
     "output_type": "execute_result"
    }
   ],
   "source": [
    "def  buy_sell(nums):\n",
    "    n=len(nums)\n",
    "    max_profit=0\n",
    "    for i in range(0,n):\n",
    "        for j in range(i+1,n):\n",
    "            if nums[j]>nums[i]:\n",
    "                p=nums[j]-nums[i]\n",
    "                max_profit=max(max_profit,p)\n",
    "    return max_profit\n",
    "prices = [7,1,5,3,6,4]\n",
    "buy_sell(prices)"
   ]
  },
  {
   "cell_type": "code",
   "execution_count": 11,
   "id": "62d384e5",
   "metadata": {},
   "outputs": [
    {
     "data": {
      "text/plain": [
       "5"
      ]
     },
     "execution_count": 11,
     "metadata": {},
     "output_type": "execute_result"
    }
   ],
   "source": [
    "def buy_shell(prices):\n",
    "    n = len(prices)\n",
    "    min_prices = float(\"inf\")\n",
    "    max_profit = 0\n",
    "    for i in range(0, n):\n",
    "        min_prices = min(min_prices, prices[i])\n",
    "        max_profit = max(max_profit, prices[i] - min_prices)\n",
    "    return max_profit\n",
    "\n",
    "prices = [7, 1, 5, 3, 6, 4]\n",
    "buy_shell(prices)"
   ]
  },
  {
   "cell_type": "code",
   "execution_count": null,
   "id": "774451f2",
   "metadata": {},
   "outputs": [],
   "source": []
  }
 ],
 "metadata": {
  "kernelspec": {
   "display_name": "Python 3",
   "language": "python",
   "name": "python3"
  },
  "language_info": {
   "codemirror_mode": {
    "name": "ipython",
    "version": 3
   },
   "file_extension": ".py",
   "mimetype": "text/x-python",
   "name": "python",
   "nbconvert_exporter": "python",
   "pygments_lexer": "ipython3",
   "version": "3.11.9"
  }
 },
 "nbformat": 4,
 "nbformat_minor": 5
}
