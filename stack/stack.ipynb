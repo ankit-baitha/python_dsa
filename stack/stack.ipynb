{
 "cells": [
  {
   "cell_type": "markdown",
   "metadata": {},
   "source": [
    "### stack"
   ]
  },
  {
   "cell_type": "code",
   "execution_count": 30,
   "metadata": {},
   "outputs": [],
   "source": [
    "class Queue:\n",
    "    def __init__(self,size) -> None:\n",
    "        self.size =size\n",
    "        self.queue=[]\n",
    "    def Enqueue(self,val):\n",
    "        if len(self.queue)<self.size:\n",
    "            self.queue.append(val)\n",
    "            return val\n",
    "        else:\n",
    "            raise IndexError(\"bakchodi na kre kyonki queue full hai!\")\n",
    "    def Dequeue(self):\n",
    "        if len(self.queue)>0:\n",
    "            temp=self.queue[0]\n",
    "            self.queue.pop(0)\n",
    "            return temp\n",
    "        else:\n",
    "            raise IndexError(\"bakchodi na kre kyonki queue Empty! hai!\")\n",
    "        \n",
    "        \n",
    "q=Queue(5)"
   ]
  }
 ],
 "metadata": {
  "kernelspec": {
   "display_name": "Python 3",
   "language": "python",
   "name": "python3"
  },
  "language_info": {
   "codemirror_mode": {
    "name": "ipython",
    "version": 3
   },
   "file_extension": ".py",
   "mimetype": "text/x-python",
   "name": "python",
   "nbconvert_exporter": "python",
   "pygments_lexer": "ipython3",
   "version": "3.11.9"
  }
 },
 "nbformat": 4,
 "nbformat_minor": 2
}
