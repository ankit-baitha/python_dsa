{
 "cells": [
  {
   "cell_type": "markdown",
   "metadata": {},
   "source": [
    "### stack"
   ]
  },
  {
   "cell_type": "code",
   "execution_count": 9,
   "metadata": {},
   "outputs": [
    {
     "name": "stdout",
     "output_type": "stream",
     "text": [
      "7 2\n"
     ]
    }
   ],
   "source": [
    "arr=[5,4,3,2,7,9,-65]\n",
    "maxi=float(\"-inf\")\n",
    "maxi_2=float(\"-inf\")\n",
    "\n",
    "mini=float(\"inf\")\n",
    "mini_2=float(\"inf\")\n",
    "\n",
    "n=len(arr)\n",
    "for i in range(0,n):\n",
    "    maxi=max(maxi,arr[i])\n",
    "    mini=min(mini, arr[i])\n",
    "\n",
    "\n",
    "for j in range(0,n):\n",
    "    if arr[j]>maxi_2 and maxi!=arr[j]:\n",
    "        maxi_2=arr[j]\n",
    "    if arr[j]<mini_2 and mini!=arr[j]:\n",
    "        mini_2=arr[j]\n",
    "print(maxi_2,mini_2)\n"
   ]
  },
  {
   "cell_type": "code",
   "execution_count": 30,
   "metadata": {},
   "outputs": [],
   "source": [
    "class Queue:\n",
    "    def __init__(self,size) -> None:\n",
    "        self.size =size\n",
    "        self.queue=[]\n",
    "    def Enqueue(self,val):\n",
    "        if len(self.queue)<self.size:\n",
    "            self.queue.append(val)\n",
    "            return val\n",
    "        else:\n",
    "            raise IndexError(\"bakchodi na kre kyonki queue full hai!\")\n",
    "    def Dequeue(self):\n",
    "        if len(self.queue)>0:\n",
    "            temp=self.queue[0]\n",
    "            self.queue.pop(0)\n",
    "            return temp\n",
    "        else:\n",
    "            raise IndexError(\"bakchodi na kre kyonki queue Empty! hai!\")\n",
    "        \n",
    "        \n",
    "q=Queue(5)"
   ]
  },
  {
   "cell_type": "code",
   "execution_count": 7,
   "metadata": {},
   "outputs": [
    {
     "name": "stdout",
     "output_type": "stream",
     "text": [
      "9\n",
      "7\n"
     ]
    }
   ],
   "source": [
    "arr=[5,4,3,2,7,9,-65]\n",
    "maxi=float(\"-inf\")\n",
    "maxi_2=float(\"-inf\")\n",
    "n=len(arr)\n",
    "for i in range(0,n):\n",
    "    if arr[i]>maxi:\n",
    "        maxi_2=maxi\n",
    "        maxi=arr[i]\n",
    "    elif arr[i]>maxi_2 and maxi!=arr[i]:\n",
    "        maxi_2=arr[i]\n",
    "print(maxi)\n",
    "print(maxi_2)"
   ]
  },
  {
   "cell_type": "code",
   "execution_count": 1,
   "metadata": {},
   "outputs": [
    {
     "data": {
      "text/plain": [
       "[1, 2, 3, 4, 5, 6, 7]"
      ]
     },
     "execution_count": 1,
     "metadata": {},
     "output_type": "execute_result"
    }
   ],
   "source": [
    "# merge to sorted array\n",
    "def merger_sort(arr1,arr2):\n",
    "    i=0\n",
    "    j=0\n",
    "    n=len(arr1)\n",
    "    m=len(arr2)\n",
    "    result=[]\n",
    "    while i<n and j<m:\n",
    "        if arr1[i]<=arr2[j]:\n",
    "            if len(result)==0 or result[-1]!=arr1[i]:\n",
    "                result.append(arr1[i])\n",
    "            i+=1\n",
    "\n",
    "        else:\n",
    "            if len(result) ==0 or result[-1]!=arr2[j]:\n",
    "                result.append(arr2[j])\n",
    "            j+=1\n",
    "\n",
    "    while i<n:\n",
    "        if len(result)==0 or result[-1]!=arr1[i]:\n",
    "                result.append(arr1[i])\n",
    "        i+=1\n",
    "    while j<m:\n",
    "            if len(result)==0 or result[-1]!=b[j]:\n",
    "                    result.append(b[j])\n",
    "            j+=1\n",
    "    return result\n",
    "a = [1, 2, 3, 4, 5]\n",
    "b = [1, 2, 3, 6, 7]\n",
    "merger_sort(a,b)\n",
    "        \n",
    "    "
   ]
  },
  {
   "cell_type": "code",
   "execution_count": 3,
   "metadata": {},
   "outputs": [
    {
     "data": {
      "text/plain": [
       "8"
      ]
     },
     "execution_count": 3,
     "metadata": {},
     "output_type": "execute_result"
    }
   ],
   "source": [
    "def missingNumber(nums):\n",
    "    n=len(nums)\n",
    "    original = (n*(n+1)//2)\n",
    "    total=0\n",
    "    for i in range(n):\n",
    "        total = total + nums[i]\n",
    "    return original - total\n",
    "nums = [9,6,4,2,3,5,7,0,1]\n",
    "missingNumber(nums)"
   ]
  },
  {
   "cell_type": "code",
   "execution_count": 6,
   "metadata": {},
   "outputs": [
    {
     "data": {
      "text/plain": [
       "3"
      ]
     },
     "execution_count": 6,
     "metadata": {},
     "output_type": "execute_result"
    }
   ],
   "source": [
    "def fingMaxConsecutiveOnes(nums):\n",
    "    maximum_count=0\n",
    "    count=0\n",
    "    for i in range(0,len(nums)):\n",
    "        if nums[i]==1:\n",
    "            count+=1\n",
    "        else:\n",
    "            maximum_count=max(maximum_count,count)\n",
    "            count=0\n",
    "    return max(maximum_count,count)\n",
    "nums = [1,1,0,1,1,1,]\n",
    "fingMaxConsecutiveOnes(nums)"
   ]
  },
  {
   "cell_type": "code",
   "execution_count": 23,
   "metadata": {},
   "outputs": [
    {
     "data": {
      "text/plain": [
       "[0, 0, 1, 1, 2, 2]"
      ]
     },
     "execution_count": 23,
     "metadata": {},
     "output_type": "execute_result"
    }
   ],
   "source": [
    "def sortcolors(nums):\n",
    "    low=0\n",
    "    mid=0\n",
    "    high=len(nums)-1\n",
    "    while mid<=high:\n",
    "        if nums[mid]==0:\n",
    "            nums[mid],nums[low]=nums[low],nums[mid]\n",
    "            low +=1\n",
    "            mid+=1\n",
    "        elif nums[mid]==1:\n",
    "            mid+=1\n",
    "        else:\n",
    "            nums[mid],nums[high]=nums[high],nums[mid]\n",
    "            high-=1\n",
    "    return nums\n",
    "nums = [2,0,2,1,1,0]\n",
    "sortcolors(nums)\n",
    "        "
   ]
  },
  {
   "cell_type": "code",
   "execution_count": null,
   "metadata": {},
   "outputs": [],
   "source": []
  },
  {
   "cell_type": "code",
   "execution_count": 26,
   "metadata": {},
   "outputs": [
    {
     "data": {
      "text/plain": [
       "6"
      ]
     },
     "execution_count": 26,
     "metadata": {},
     "output_type": "execute_result"
    }
   ],
   "source": [
    "# maximum_subarray\n",
    "def maximum_subarray(nums):\n",
    "    n=len(nums)\n",
    "    maxi=float(\"-inf\")\n",
    "    for i in range(0, n):\n",
    "        total=0\n",
    "        for j in range(i,n):\n",
    "            total=total+nums[j]\n",
    "            maxi=max(maxi,total)\n",
    "    return maxi\n",
    "\n",
    "nums = [-2,1,-3,4,-1,2,1,-5,4]\n",
    "maximum_subarray(nums)"
   ]
  },
  {
   "cell_type": "code",
   "execution_count": 28,
   "metadata": {},
   "outputs": [
    {
     "data": {
      "text/plain": [
       "6"
      ]
     },
     "execution_count": 28,
     "metadata": {},
     "output_type": "execute_result"
    }
   ],
   "source": [
    "# kadane's algorithm\n",
    "def kadane(nums):\n",
    "    n=len(nums)\n",
    "    maxi=float('-inf')\n",
    "    total=0\n",
    "\n",
    "    for i in range(0,n):\n",
    "        total=total + nums[i]\n",
    "        maxi= max(maxi,total)\n",
    "\n",
    "        if total<0:\n",
    "            total = 0\n",
    "    return maxi\n",
    "nums = [-2,1,-3,4,-1,2,1,-5,4]\n",
    "kadane(nums)"
   ]
  },
  {
   "cell_type": "code",
   "execution_count": 8,
   "metadata": {},
   "outputs": [
    {
     "data": {
      "text/plain": [
       "2"
      ]
     },
     "execution_count": 8,
     "metadata": {},
     "output_type": "execute_result"
    }
   ],
   "source": [
    "\n",
    "#  majority element\n",
    "def Majority_element(nums):\n",
    "    my_dict={}\n",
    "    n=len(nums)\n",
    "    for i in nums:\n",
    "        my_dict[i]=my_dict.get(i,0)+1\n",
    "    for num,freq in my_dict.items():\n",
    "        if freq >n//2:\n",
    "            return num\n",
    "nums = [2,2,1,1,1,2,2]\n",
    "Majority_element(nums)\n",
    "        "
   ]
  }
 ],
 "metadata": {
  "kernelspec": {
   "display_name": "Python 3",
   "language": "python",
   "name": "python3"
  },
  "language_info": {
   "codemirror_mode": {
    "name": "ipython",
    "version": 3
   },
   "file_extension": ".py",
   "mimetype": "text/x-python",
   "name": "python",
   "nbconvert_exporter": "python",
   "pygments_lexer": "ipython3",
   "version": "3.11.9"
  }
 },
 "nbformat": 4,
 "nbformat_minor": 2
}
